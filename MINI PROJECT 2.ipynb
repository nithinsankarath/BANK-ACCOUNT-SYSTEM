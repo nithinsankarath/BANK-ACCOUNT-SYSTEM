{
 "cells": [
  {
   "cell_type": "code",
   "execution_count": 12,
   "id": "c722654b",
   "metadata": {},
   "outputs": [],
   "source": [
    "class BankAccount:\n",
    "    def __init__(self,name,balance=0):\n",
    "        self.name=name\n",
    "        self.balance=balance\n",
    "    def deposit(self,amount):\n",
    "        self.balance +=amount\n",
    "        print(f\"Amount {amount} deposited successfully.New balance: {self.balance}\")\n",
    "    def withdraw(self,amount):\n",
    "        if amount <= self.balance:\n",
    "            self.balance -= amount\n",
    "            print(f\"Amount {amount} withdrawn successfully.New balance: {self.balance}\")\n",
    "        else:\n",
    "            print(\"Insufficient funds\")\n",
    "    def display_balance(self):\n",
    "        print(f\"Current balance: {self.balance}\")\n",
    "    def login(self):\n",
    "        print(f\"Welcome, {self.name}!\")"
   ]
  },
  {
   "cell_type": "code",
   "execution_count": 13,
   "id": "a4c58dac",
   "metadata": {},
   "outputs": [
    {
     "name": "stdout",
     "output_type": "stream",
     "text": [
      "Welcome, Nithin!\n",
      "Amount 1000 deposited successfully.New balance: 1000\n",
      "Amount 500 withdrawn successfully.New balance: 500\n",
      "Current balance: 500\n"
     ]
    }
   ],
   "source": [
    "def main():\n",
    "    account = BankAccount(\"Nithin\")\n",
    "    account.login()\n",
    "    account.deposit(1000)\n",
    "    account.withdraw(500)\n",
    "    account.display_balance()\n",
    "if __name__ == \"__main__\":\n",
    "    main()\n",
    "    "
   ]
  }
 ],
 "metadata": {
  "kernelspec": {
   "display_name": "Python 3 (ipykernel)",
   "language": "python",
   "name": "python3"
  },
  "language_info": {
   "codemirror_mode": {
    "name": "ipython",
    "version": 3
   },
   "file_extension": ".py",
   "mimetype": "text/x-python",
   "name": "python",
   "nbconvert_exporter": "python",
   "pygments_lexer": "ipython3",
   "version": "3.11.5"
  }
 },
 "nbformat": 4,
 "nbformat_minor": 5
}
